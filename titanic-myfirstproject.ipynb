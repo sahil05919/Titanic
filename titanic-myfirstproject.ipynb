{
 "cells": [
  {
   "cell_type": "code",
   "execution_count": 1,
   "id": "63942426",
   "metadata": {
    "execution": {
     "iopub.execute_input": "2024-09-23T10:14:28.051419Z",
     "iopub.status.busy": "2024-09-23T10:14:28.051010Z",
     "iopub.status.idle": "2024-09-23T10:14:28.056481Z",
     "shell.execute_reply": "2024-09-23T10:14:28.055653Z"
    },
    "papermill": {
     "duration": 0.015742,
     "end_time": "2024-09-23T10:14:28.058689",
     "exception": false,
     "start_time": "2024-09-23T10:14:28.042947",
     "status": "completed"
    },
    "tags": []
   },
   "outputs": [],
   "source": [
    "# Count of all people survived 342\n",
    "# Count of all people died 549\n",
    "# Total_People 891\n",
    "# Count of all Male 577\n",
    "# Count of all Female 314\n",
    "# Average age  of male died in ship 31.618055555555557\n",
    "# Average age  of female died in ship 25.046875\n",
    "# Diagram male survior vs female survivor\n",
    "#Count of passanger in different class(Pclass) and its daigram\n",
    "#check null value in test data set\n",
    "#Drop null value in dftest\n",
    "#Average fair paid by passanger\n",
    "#Person who survived paid average\n",
    "# Person who died paid how much avearage\n",
    "#Daigram of all 3 \n",
    "#Siblings\n",
    "\n"
   ]
  },
  {
   "cell_type": "code",
   "execution_count": 2,
   "id": "8fdd058c",
   "metadata": {
    "_cell_guid": "b1076dfc-b9ad-4769-8c92-a6c4dae69d19",
    "_uuid": "8f2839f25d086af736a60e9eeb907d3b93b6e0e5",
    "execution": {
     "iopub.execute_input": "2024-09-23T10:14:28.072461Z",
     "iopub.status.busy": "2024-09-23T10:14:28.072060Z",
     "iopub.status.idle": "2024-09-23T10:14:28.484093Z",
     "shell.execute_reply": "2024-09-23T10:14:28.482836Z"
    },
    "papermill": {
     "duration": 0.421749,
     "end_time": "2024-09-23T10:14:28.486572",
     "exception": false,
     "start_time": "2024-09-23T10:14:28.064823",
     "status": "completed"
    },
    "tags": []
   },
   "outputs": [
    {
     "name": "stdout",
     "output_type": "stream",
     "text": [
      "/kaggle/input/titanic/train.csv\n",
      "/kaggle/input/titanic/test.csv\n",
      "/kaggle/input/titanic/gender_submission.csv\n"
     ]
    }
   ],
   "source": [
    "# This Python 3 environment comes with many helpful analytics libraries installed\n",
    "# It is defined by the kaggle/python Docker image: https://github.com/kaggle/docker-python\n",
    "# For example, here's several helpful packages to load\n",
    "\n",
    "import numpy as np # linear algebra\n",
    "import pandas as pd # data processing, CSV file I/O (e.g. pd.read_csv)\n",
    "\n",
    "# Input data files are available in the read-only \"../input/\" directory\n",
    "# For example, running this (by clicking run or pressing Shift+Enter) will list all files under the input directory\n",
    "\n",
    "import os\n",
    "for dirname, _, filenames in os.walk('/kaggle/input'):\n",
    "    for filename in filenames:\n",
    "        print(os.path.join(dirname, filename))\n",
    "\n",
    "# You can write up to 20GB to the current directory (/kaggle/working/) that gets preserved as output when you create a version using \"Save & Run All\" \n",
    "# You can also write temporary files to /kaggle/temp/, but they won't be saved outside of the current session"
   ]
  },
  {
   "cell_type": "code",
   "execution_count": 3,
   "id": "0ea432e0",
   "metadata": {
    "execution": {
     "iopub.execute_input": "2024-09-23T10:14:28.503439Z",
     "iopub.status.busy": "2024-09-23T10:14:28.502909Z",
     "iopub.status.idle": "2024-09-23T10:14:28.507891Z",
     "shell.execute_reply": "2024-09-23T10:14:28.506766Z"
    },
    "papermill": {
     "duration": 0.015418,
     "end_time": "2024-09-23T10:14:28.510068",
     "exception": false,
     "start_time": "2024-09-23T10:14:28.494650",
     "status": "completed"
    },
    "tags": []
   },
   "outputs": [],
   "source": [
    "#Importing the libraries \n",
    "import numpy as np\n",
    "import pandas as pd\n"
   ]
  },
  {
   "cell_type": "code",
   "execution_count": 4,
   "id": "78e8a1ec",
   "metadata": {
    "execution": {
     "iopub.execute_input": "2024-09-23T10:14:28.523596Z",
     "iopub.status.busy": "2024-09-23T10:14:28.523196Z",
     "iopub.status.idle": "2024-09-23T10:14:28.560117Z",
     "shell.execute_reply": "2024-09-23T10:14:28.559002Z"
    },
    "papermill": {
     "duration": 0.046616,
     "end_time": "2024-09-23T10:14:28.562666",
     "exception": false,
     "start_time": "2024-09-23T10:14:28.516050",
     "status": "completed"
    },
    "tags": []
   },
   "outputs": [],
   "source": [
    "#Load the file\n",
    "dftrain = pd.read_csv(\"/kaggle/input/titanic/train.csv\")\n",
    "dftest = pd.read_csv(\"/kaggle/input/titanic/test.csv\")\n",
    "df3gender = pd.read_csv(\"/kaggle/input/titanic/gender_submission.csv\")"
   ]
  },
  {
   "cell_type": "code",
   "execution_count": 5,
   "id": "72828bdb",
   "metadata": {
    "execution": {
     "iopub.execute_input": "2024-09-23T10:14:28.576531Z",
     "iopub.status.busy": "2024-09-23T10:14:28.576123Z",
     "iopub.status.idle": "2024-09-23T10:14:28.580719Z",
     "shell.execute_reply": "2024-09-23T10:14:28.579637Z"
    },
    "papermill": {
     "duration": 0.014072,
     "end_time": "2024-09-23T10:14:28.582951",
     "exception": false,
     "start_time": "2024-09-23T10:14:28.568879",
     "status": "completed"
    },
    "tags": []
   },
   "outputs": [],
   "source": [
    "#print all data and get an idea what type of data is provided to us and what analysis can we do?"
   ]
  },
  {
   "cell_type": "code",
   "execution_count": 6,
   "id": "d789a019",
   "metadata": {
    "execution": {
     "iopub.execute_input": "2024-09-23T10:14:28.597499Z",
     "iopub.status.busy": "2024-09-23T10:14:28.596348Z",
     "iopub.status.idle": "2024-09-23T10:14:28.615646Z",
     "shell.execute_reply": "2024-09-23T10:14:28.614443Z"
    },
    "papermill": {
     "duration": 0.029052,
     "end_time": "2024-09-23T10:14:28.618021",
     "exception": false,
     "start_time": "2024-09-23T10:14:28.588969",
     "status": "completed"
    },
    "tags": []
   },
   "outputs": [
    {
     "name": "stdout",
     "output_type": "stream",
     "text": [
      "   PassengerId  Survived  Pclass  \\\n",
      "0            1         0       3   \n",
      "1            2         1       1   \n",
      "2            3         1       3   \n",
      "3            4         1       1   \n",
      "4            5         0       3   \n",
      "\n",
      "                                                Name     Sex   Age  SibSp  \\\n",
      "0                            Braund, Mr. Owen Harris    male  22.0      1   \n",
      "1  Cumings, Mrs. John Bradley (Florence Briggs Th...  female  38.0      1   \n",
      "2                             Heikkinen, Miss. Laina  female  26.0      0   \n",
      "3       Futrelle, Mrs. Jacques Heath (Lily May Peel)  female  35.0      1   \n",
      "4                           Allen, Mr. William Henry    male  35.0      0   \n",
      "\n",
      "   Parch            Ticket     Fare Cabin Embarked  \n",
      "0      0         A/5 21171   7.2500   NaN        S  \n",
      "1      0          PC 17599  71.2833   C85        C  \n",
      "2      0  STON/O2. 3101282   7.9250   NaN        S  \n",
      "3      0            113803  53.1000  C123        S  \n",
      "4      0            373450   8.0500   NaN        S  \n"
     ]
    }
   ],
   "source": [
    "#Check in df1( first data set) what type of data is given. We will use head function  to see summary of top 5 rows. \n",
    "print(dftrain.head(5))"
   ]
  },
  {
   "cell_type": "code",
   "execution_count": 7,
   "id": "29d12a9a",
   "metadata": {
    "execution": {
     "iopub.execute_input": "2024-09-23T10:14:28.631599Z",
     "iopub.status.busy": "2024-09-23T10:14:28.631215Z",
     "iopub.status.idle": "2024-09-23T10:14:28.640864Z",
     "shell.execute_reply": "2024-09-23T10:14:28.639849Z"
    },
    "papermill": {
     "duration": 0.018947,
     "end_time": "2024-09-23T10:14:28.642995",
     "exception": false,
     "start_time": "2024-09-23T10:14:28.624048",
     "status": "completed"
    },
    "tags": []
   },
   "outputs": [
    {
     "name": "stdout",
     "output_type": "stream",
     "text": [
      "   PassengerId  Pclass                                          Name     Sex  \\\n",
      "0          892       3                              Kelly, Mr. James    male   \n",
      "1          893       3              Wilkes, Mrs. James (Ellen Needs)  female   \n",
      "2          894       2                     Myles, Mr. Thomas Francis    male   \n",
      "3          895       3                              Wirz, Mr. Albert    male   \n",
      "4          896       3  Hirvonen, Mrs. Alexander (Helga E Lindqvist)  female   \n",
      "\n",
      "    Age  SibSp  Parch   Ticket     Fare Cabin Embarked  \n",
      "0  34.5      0      0   330911   7.8292   NaN        Q  \n",
      "1  47.0      1      0   363272   7.0000   NaN        S  \n",
      "2  62.0      0      0   240276   9.6875   NaN        Q  \n",
      "3  27.0      0      0   315154   8.6625   NaN        S  \n",
      "4  22.0      1      1  3101298  12.2875   NaN        S  \n"
     ]
    }
   ],
   "source": [
    "#Check in dftest\n",
    "print(dftest.head(5))"
   ]
  },
  {
   "cell_type": "code",
   "execution_count": 8,
   "id": "a3325307",
   "metadata": {
    "execution": {
     "iopub.execute_input": "2024-09-23T10:14:28.656783Z",
     "iopub.status.busy": "2024-09-23T10:14:28.656377Z",
     "iopub.status.idle": "2024-09-23T10:14:28.663330Z",
     "shell.execute_reply": "2024-09-23T10:14:28.662259Z"
    },
    "papermill": {
     "duration": 0.016941,
     "end_time": "2024-09-23T10:14:28.666024",
     "exception": false,
     "start_time": "2024-09-23T10:14:28.649083",
     "status": "completed"
    },
    "tags": []
   },
   "outputs": [
    {
     "name": "stdout",
     "output_type": "stream",
     "text": [
      "   PassengerId  Survived\n",
      "0          892         0\n",
      "1          893         1\n",
      "2          894         0\n",
      "3          895         0\n",
      "4          896         1\n"
     ]
    }
   ],
   "source": [
    "#Check in df3\n",
    "print(df3gender.head(5))"
   ]
  },
  {
   "cell_type": "code",
   "execution_count": 9,
   "id": "c4101d8a",
   "metadata": {
    "execution": {
     "iopub.execute_input": "2024-09-23T10:14:28.680188Z",
     "iopub.status.busy": "2024-09-23T10:14:28.679779Z",
     "iopub.status.idle": "2024-09-23T10:14:28.703298Z",
     "shell.execute_reply": "2024-09-23T10:14:28.702173Z"
    },
    "papermill": {
     "duration": 0.033335,
     "end_time": "2024-09-23T10:14:28.705601",
     "exception": false,
     "start_time": "2024-09-23T10:14:28.672266",
     "status": "completed"
    },
    "tags": []
   },
   "outputs": [
    {
     "name": "stdout",
     "output_type": "stream",
     "text": [
      "<class 'pandas.core.frame.DataFrame'>\n",
      "RangeIndex: 891 entries, 0 to 890\n",
      "Data columns (total 12 columns):\n",
      " #   Column       Non-Null Count  Dtype  \n",
      "---  ------       --------------  -----  \n",
      " 0   PassengerId  891 non-null    int64  \n",
      " 1   Survived     891 non-null    int64  \n",
      " 2   Pclass       891 non-null    int64  \n",
      " 3   Name         891 non-null    object \n",
      " 4   Sex          891 non-null    object \n",
      " 5   Age          714 non-null    float64\n",
      " 6   SibSp        891 non-null    int64  \n",
      " 7   Parch        891 non-null    int64  \n",
      " 8   Ticket       891 non-null    object \n",
      " 9   Fare         891 non-null    float64\n",
      " 10  Cabin        204 non-null    object \n",
      " 11  Embarked     889 non-null    object \n",
      "dtypes: float64(2), int64(5), object(5)\n",
      "memory usage: 83.7+ KB\n"
     ]
    }
   ],
   "source": [
    "#Lets check the summary of df1 data. We will use info function to get an idea where are missing values in data. \n",
    "dftrain.info()"
   ]
  },
  {
   "cell_type": "code",
   "execution_count": 10,
   "id": "c3109ec0",
   "metadata": {
    "execution": {
     "iopub.execute_input": "2024-09-23T10:14:28.719834Z",
     "iopub.status.busy": "2024-09-23T10:14:28.719420Z",
     "iopub.status.idle": "2024-09-23T10:14:28.723981Z",
     "shell.execute_reply": "2024-09-23T10:14:28.722970Z"
    },
    "papermill": {
     "duration": 0.014107,
     "end_time": "2024-09-23T10:14:28.725977",
     "exception": false,
     "start_time": "2024-09-23T10:14:28.711870",
     "status": "completed"
    },
    "tags": []
   },
   "outputs": [],
   "source": [
    "# We will solve the df1 and we will try to answer some general question regarding this data. "
   ]
  },
  {
   "cell_type": "code",
   "execution_count": 11,
   "id": "5d075c13",
   "metadata": {
    "execution": {
     "iopub.execute_input": "2024-09-23T10:14:28.740520Z",
     "iopub.status.busy": "2024-09-23T10:14:28.739643Z",
     "iopub.status.idle": "2024-09-23T10:14:28.744120Z",
     "shell.execute_reply": "2024-09-23T10:14:28.743111Z"
    },
    "papermill": {
     "duration": 0.014209,
     "end_time": "2024-09-23T10:14:28.746511",
     "exception": false,
     "start_time": "2024-09-23T10:14:28.732302",
     "status": "completed"
    },
    "tags": []
   },
   "outputs": [],
   "source": [
    "# Q1 - What are the total number of people survive in this accident?"
   ]
  },
  {
   "cell_type": "code",
   "execution_count": 12,
   "id": "c46a9f82",
   "metadata": {
    "execution": {
     "iopub.execute_input": "2024-09-23T10:14:28.760859Z",
     "iopub.status.busy": "2024-09-23T10:14:28.760431Z",
     "iopub.status.idle": "2024-09-23T10:14:28.767255Z",
     "shell.execute_reply": "2024-09-23T10:14:28.766268Z"
    },
    "papermill": {
     "duration": 0.016704,
     "end_time": "2024-09-23T10:14:28.769614",
     "exception": false,
     "start_time": "2024-09-23T10:14:28.752910",
     "status": "completed"
    },
    "tags": []
   },
   "outputs": [
    {
     "name": "stdout",
     "output_type": "stream",
     "text": [
      "Count of all people survived 342\n",
      "Count of all people died 549\n",
      "Total_People 891\n"
     ]
    }
   ],
   "source": [
    "#We will use count function to see how many people survive?\n",
    "Total_people = 891\n",
    "count_of_survived_dftrain = (dftrain['Survived']==1).sum()\n",
    "print(\"Count of all people survived\", count_of_survived_dftrain)\n",
    "print(\"Count of all people died\", Total_people - count_of_survived_dftrain)\n",
    "print(\"Total_People\", Total_people)"
   ]
  },
  {
   "cell_type": "code",
   "execution_count": 13,
   "id": "758c2ff0",
   "metadata": {
    "execution": {
     "iopub.execute_input": "2024-09-23T10:14:28.784426Z",
     "iopub.status.busy": "2024-09-23T10:14:28.784035Z",
     "iopub.status.idle": "2024-09-23T10:14:28.790183Z",
     "shell.execute_reply": "2024-09-23T10:14:28.789258Z"
    },
    "papermill": {
     "duration": 0.016257,
     "end_time": "2024-09-23T10:14:28.792332",
     "exception": false,
     "start_time": "2024-09-23T10:14:28.776075",
     "status": "completed"
    },
    "tags": []
   },
   "outputs": [
    {
     "name": "stdout",
     "output_type": "stream",
     "text": [
      "Count of all Male 577\n",
      "Count of all Female 314\n"
     ]
    }
   ],
   "source": [
    "#Count of male vs female \n",
    "\n",
    "count_of_male_dftrain = (dftrain[\"Sex\"]=='male').sum()\n",
    "print(\"Count of all Male\",count_of_male_dftrain)\n",
    "\n",
    "count_of_female_dftrain = Total_people - count_of_male_dftrain\n",
    "print(\"Count of all Female\",count_of_female_dftrain )\n"
   ]
  },
  {
   "cell_type": "code",
   "execution_count": 14,
   "id": "9361dd37",
   "metadata": {
    "execution": {
     "iopub.execute_input": "2024-09-23T10:14:28.806751Z",
     "iopub.status.busy": "2024-09-23T10:14:28.806331Z",
     "iopub.status.idle": "2024-09-23T10:14:28.821155Z",
     "shell.execute_reply": "2024-09-23T10:14:28.819789Z"
    },
    "papermill": {
     "duration": 0.024806,
     "end_time": "2024-09-23T10:14:28.823575",
     "exception": false,
     "start_time": "2024-09-23T10:14:28.798769",
     "status": "completed"
    },
    "tags": []
   },
   "outputs": [],
   "source": [
    "male_died = dftrain[(dftrain['Sex']== 'male') & (dftrain[\"Survived\"]==0)]\n",
    "female_died = dftrain[(dftrain['Sex']== 'female')& (dftrain['Survived']==0)]\n",
    "\n",
    "male_died_count = male_died.count()\n",
    "female_died_count = female_died.count()\n",
    "\n",
    "average_age_male_died = male_died['Age'].mean()\n",
    "average_age_female_died = female_died['Age'].mean()\n"
   ]
  },
  {
   "cell_type": "code",
   "execution_count": 15,
   "id": "b27911e0",
   "metadata": {
    "execution": {
     "iopub.execute_input": "2024-09-23T10:14:28.838247Z",
     "iopub.status.busy": "2024-09-23T10:14:28.837854Z",
     "iopub.status.idle": "2024-09-23T10:14:28.843324Z",
     "shell.execute_reply": "2024-09-23T10:14:28.842278Z"
    },
    "papermill": {
     "duration": 0.016044,
     "end_time": "2024-09-23T10:14:28.846168",
     "exception": false,
     "start_time": "2024-09-23T10:14:28.830124",
     "status": "completed"
    },
    "tags": []
   },
   "outputs": [
    {
     "name": "stdout",
     "output_type": "stream",
     "text": [
      "Average age  of male died in ship 31.618055555555557\n",
      "Average age  of female died in ship 25.046875\n"
     ]
    }
   ],
   "source": [
    "print(\"Average age  of male died in ship\", average_age_male_died)\n",
    "print(\"Average age  of female died in ship\", average_age_female_died)"
   ]
  },
  {
   "cell_type": "code",
   "execution_count": 16,
   "id": "2451c30c",
   "metadata": {
    "execution": {
     "iopub.execute_input": "2024-09-23T10:14:28.861309Z",
     "iopub.status.busy": "2024-09-23T10:14:28.860561Z",
     "iopub.status.idle": "2024-09-23T10:14:29.082270Z",
     "shell.execute_reply": "2024-09-23T10:14:29.081195Z"
    },
    "papermill": {
     "duration": 0.231649,
     "end_time": "2024-09-23T10:14:29.084498",
     "exception": false,
     "start_time": "2024-09-23T10:14:28.852849",
     "status": "completed"
    },
    "tags": []
   },
   "outputs": [
    {
     "data": {
      "text/plain": [
       "<BarContainer object of 2 artists>"
      ]
     },
     "execution_count": 16,
     "metadata": {},
     "output_type": "execute_result"
    },
    {
     "data": {
      "image/png": "[encoded data removed]",
      "text/plain": [
       "<Figure size 500x500 with 1 Axes>"
      ]
     },
     "metadata": {},
     "output_type": "display_data"
    }
   ],
   "source": [
    "import matplotlib.pyplot as plt\n",
    "plt.figure(figsize=(5,5))\n",
    "plt.bar(list(dftrain[\"Survived\"].value_counts().keys()),list(dftrain['Survived'].value_counts()),color = [\"r\", \"g\"])\n"
   ]
  },
  {
   "cell_type": "code",
   "execution_count": 17,
   "id": "b0a322ac",
   "metadata": {
    "execution": {
     "iopub.execute_input": "2024-09-23T10:14:29.100204Z",
     "iopub.status.busy": "2024-09-23T10:14:29.099668Z",
     "iopub.status.idle": "2024-09-23T10:14:29.108971Z",
     "shell.execute_reply": "2024-09-23T10:14:29.107984Z"
    },
    "papermill": {
     "duration": 0.019886,
     "end_time": "2024-09-23T10:14:29.111244",
     "exception": false,
     "start_time": "2024-09-23T10:14:29.091358",
     "status": "completed"
    },
    "tags": []
   },
   "outputs": [
    {
     "data": {
      "text/plain": [
       "Pclass\n",
       "3    491\n",
       "1    216\n",
       "2    184\n",
       "Name: count, dtype: int64"
      ]
     },
     "execution_count": 17,
     "metadata": {},
     "output_type": "execute_result"
    }
   ],
   "source": [
    "dftrain['Pclass'].value_counts()"
   ]
  },
  {
   "cell_type": "code",
   "execution_count": 18,
   "id": "aa242442",
   "metadata": {
    "execution": {
     "iopub.execute_input": "2024-09-23T10:14:29.127603Z",
     "iopub.status.busy": "2024-09-23T10:14:29.126770Z",
     "iopub.status.idle": "2024-09-23T10:14:29.289854Z",
     "shell.execute_reply": "2024-09-23T10:14:29.288766Z"
    },
    "papermill": {
     "duration": 0.173781,
     "end_time": "2024-09-23T10:14:29.292167",
     "exception": false,
     "start_time": "2024-09-23T10:14:29.118386",
     "status": "completed"
    },
    "tags": []
   },
   "outputs": [
    {
     "data": {
      "image/png": "[encoded data removed]",
      "text/plain": [
       "<Figure size 500x500 with 1 Axes>"
      ]
     },
     "metadata": {},
     "output_type": "display_data"
    }
   ],
   "source": [
    "#Count of passanger in different class(Pclass) and its daigram\n",
    "\n",
    "plt.figure(figsize = (5,5))\n",
    "plt.bar(list(dftrain['Pclass'].value_counts().keys()), list(dftrain['Pclass'].value_counts()),color = \"orange\")\n",
    "plt.show()"
   ]
  },
  {
   "cell_type": "code",
   "execution_count": 19,
   "id": "8c82f453",
   "metadata": {
    "execution": {
     "iopub.execute_input": "2024-09-23T10:14:29.308440Z",
     "iopub.status.busy": "2024-09-23T10:14:29.308034Z",
     "iopub.status.idle": "2024-09-23T10:14:29.315189Z",
     "shell.execute_reply": "2024-09-23T10:14:29.314188Z"
    },
    "papermill": {
     "duration": 0.017907,
     "end_time": "2024-09-23T10:14:29.317376",
     "exception": false,
     "start_time": "2024-09-23T10:14:29.299469",
     "status": "completed"
    },
    "tags": []
   },
   "outputs": [
    {
     "data": {
      "text/plain": [
       "86"
      ]
     },
     "execution_count": 19,
     "metadata": {},
     "output_type": "execute_result"
    }
   ],
   "source": [
    "#null value in titanic test\n",
    "sum(dftest['Age'].isnull())"
   ]
  },
  {
   "cell_type": "code",
   "execution_count": 20,
   "id": "49b77f0d",
   "metadata": {
    "execution": {
     "iopub.execute_input": "2024-09-23T10:14:29.334526Z",
     "iopub.status.busy": "2024-09-23T10:14:29.334112Z",
     "iopub.status.idle": "2024-09-23T10:14:29.338684Z",
     "shell.execute_reply": "2024-09-23T10:14:29.337784Z"
    },
    "papermill": {
     "duration": 0.015544,
     "end_time": "2024-09-23T10:14:29.340888",
     "exception": false,
     "start_time": "2024-09-23T10:14:29.325344",
     "status": "completed"
    },
    "tags": []
   },
   "outputs": [],
   "source": [
    "# dftest = dftest['Age'].dropna()"
   ]
  },
  {
   "cell_type": "code",
   "execution_count": 21,
   "id": "21499796",
   "metadata": {
    "execution": {
     "iopub.execute_input": "2024-09-23T10:14:29.357622Z",
     "iopub.status.busy": "2024-09-23T10:14:29.356676Z",
     "iopub.status.idle": "2024-09-23T10:14:29.366364Z",
     "shell.execute_reply": "2024-09-23T10:14:29.365217Z"
    },
    "papermill": {
     "duration": 0.020432,
     "end_time": "2024-09-23T10:14:29.368554",
     "exception": false,
     "start_time": "2024-09-23T10:14:29.348122",
     "status": "completed"
    },
    "tags": []
   },
   "outputs": [
    {
     "name": "stdout",
     "output_type": "stream",
     "text": [
      "Average fair of all passanger 32.204207968574636\n",
      "Average fair of all survived 48.39540760233918\n",
      "Average fair paid by person who died 22.117886885245902\n"
     ]
    }
   ],
   "source": [
    "#Average fair paid by passanger\n",
    "print(\"Average fair of all passanger\" , dftrain.Fare.mean())\n",
    "#Person who survived paid \n",
    "survivors = dftrain[dftrain['Survived']==1]\n",
    "print(\"Average fair of all survived\", survivors.Fare.mean())\n",
    "# Person who died paid how much \n",
    "death = dftrain[dftrain['Survived']==0]\n",
    "print(\"Average fair paid by person who died\", death.Fare.mean())"
   ]
  },
  {
   "cell_type": "code",
   "execution_count": 22,
   "id": "f9e6cd43",
   "metadata": {
    "execution": {
     "iopub.execute_input": "2024-09-23T10:14:29.385775Z",
     "iopub.status.busy": "2024-09-23T10:14:29.384804Z",
     "iopub.status.idle": "2024-09-23T10:14:29.393236Z",
     "shell.execute_reply": "2024-09-23T10:14:29.392038Z"
    },
    "papermill": {
     "duration": 0.019228,
     "end_time": "2024-09-23T10:14:29.395379",
     "exception": false,
     "start_time": "2024-09-23T10:14:29.376151",
     "status": "completed"
    },
    "tags": []
   },
   "outputs": [],
   "source": [
    "avg_fare_all = dftrain['Fare'].mean()\n",
    "avg_fare_survived = dftrain[dftrain['Survived'] == 1]['Fare'].mean()\n",
    "avg_fare_died = dftrain[dftrain['Survived'] == 0]['Fare'].mean()\n"
   ]
  },
  {
   "cell_type": "code",
   "execution_count": 23,
   "id": "34669d33",
   "metadata": {
    "execution": {
     "iopub.execute_input": "2024-09-23T10:14:29.412013Z",
     "iopub.status.busy": "2024-09-23T10:14:29.411572Z",
     "iopub.status.idle": "2024-09-23T10:14:29.587890Z",
     "shell.execute_reply": "2024-09-23T10:14:29.586809Z"
    },
    "papermill": {
     "duration": 0.1875,
     "end_time": "2024-09-23T10:14:29.590337",
     "exception": false,
     "start_time": "2024-09-23T10:14:29.402837",
     "status": "completed"
    },
    "tags": []
   },
   "outputs": [
    {
     "data": {
      "image/png": "[encoded data removed]",
      "text/plain": [
       "<Figure size 640x480 with 1 Axes>"
      ]
     },
     "metadata": {},
     "output_type": "display_data"
    }
   ],
   "source": [
    "categories = ['All passengers', \"Survived\", \"Death\"]\n",
    "averages = [avg_fare_all,avg_fare_survived,avg_fare_died ]\n",
    "plt.bar(categories, averages, color = ['blue', 'green', 'red'])\n",
    "plt.show()"
   ]
  },
  {
   "cell_type": "code",
   "execution_count": 24,
   "id": "03b4330f",
   "metadata": {
    "execution": {
     "iopub.execute_input": "2024-09-23T10:14:29.608010Z",
     "iopub.status.busy": "2024-09-23T10:14:29.607229Z",
     "iopub.status.idle": "2024-09-23T10:14:29.621589Z",
     "shell.execute_reply": "2024-09-23T10:14:29.620379Z"
    },
    "papermill": {
     "duration": 0.025884,
     "end_time": "2024-09-23T10:14:29.624020",
     "exception": false,
     "start_time": "2024-09-23T10:14:29.598136",
     "status": "completed"
    },
    "tags": []
   },
   "outputs": [
    {
     "name": "stdout",
     "output_type": "stream",
     "text": [
      "Passangers with siblling in ship- 73\n"
     ]
    }
   ],
   "source": [
    "#Sibilling \n",
    "sib = dftrain[dftrain[\"SibSp\"]>0].value_counts().sum()\n",
    "print(\"Passangers with siblling in ship-\", sib)"
   ]
  }
 ],
 "metadata": {
  "kaggle": {
   "accelerator": "none",
   "dataSources": [
    {
     "databundleVersionId": 26502,
     "sourceId": 3136,
     "sourceType": "competition"
    }
   ],
   "dockerImageVersionId": 30761,
   "isGpuEnabled": false,
   "isInternetEnabled": true,
   "language": "python",
   "sourceType": "notebook"
  },
  "kernelspec": {
   "display_name": "Python 3",
   "language": "python",
   "name": "python3"
  },
  "language_info": {
   "codemirror_mode": {
    "name": "ipython",
    "version": 3
   },
   "file_extension": ".py",
   "mimetype": "text/x-python",
   "name": "python",
   "nbconvert_exporter": "python",
   "pygments_lexer": "ipython3",
   "version": "3.10.14"
  },
  "papermill": {
   "default_parameters": {},
   "duration": 4.860082,
   "end_time": "2024-09-23T10:14:30.152891",
   "environment_variables": {},
   "exception": null,
   "input_path": "__notebook__.ipynb",
   "output_path": "__notebook__.ipynb",
   "parameters": {},
   "start_time": "2024-09-23T10:14:25.292809",
   "version": "2.6.0"
  }
 },
 "nbformat": 4,
 "nbformat_minor": 5
}
